{
 "cells": [
  {
   "cell_type": "code",
   "execution_count": 6,
   "id": "bd58c63a",
   "metadata": {},
   "outputs": [],
   "source": [
    "# for manipulation\n",
    "import numpy as np\n",
    "import pandas as pd\n",
    "\n",
    "# for Data Visulizations:-\n",
    "import matplotlib.pyplot as plt\n",
    "import seaborn as sns\n",
    "\n",
    "# for interactivity:-\n",
    "from ipywidgets import interact"
   ]
  },
  {
   "cell_type": "code",
   "execution_count": 8,
   "id": "86ca0c07",
   "metadata": {},
   "outputs": [
    {
     "name": "stdout",
     "output_type": "stream",
     "text": [
      "        N   P   K  temperature   humidity        ph    rainfall   label\n",
      "0      90  42  43    20.879744  82.002744  6.502985  202.935536    rice\n",
      "1      85  58  41    21.770462  80.319644  7.038096  226.655537    rice\n",
      "2      60  55  44    23.004459  82.320763  7.840207  263.964248    rice\n",
      "3      74  35  40    26.491096  80.158363  6.980401  242.864034    rice\n",
      "4      78  42  42    20.130175  81.604873  7.628473  262.717340    rice\n",
      "...   ...  ..  ..          ...        ...       ...         ...     ...\n",
      "2195  107  34  32    26.774637  66.413269  6.780064  177.774507  coffee\n",
      "2196   99  15  27    27.417112  56.636362  6.086922  127.924610  coffee\n",
      "2197  118  33  30    24.131797  67.225123  6.362608  173.322839  coffee\n",
      "2198  117  32  34    26.272418  52.127394  6.758793  127.175293  coffee\n",
      "2199  104  18  30    23.603016  60.396475  6.779833  140.937041  coffee\n",
      "\n",
      "[2200 rows x 8 columns]\n",
      "\n"
     ]
    }
   ],
   "source": [
    "# lets read the dataset\n",
    "data = pd.read_csv(\"data (1).csv\")\n",
    "print(data)\n",
    "print()   \n"
   ]
  },
  {
   "cell_type": "code",
   "execution_count": 3,
   "id": "274a1659",
   "metadata": {},
   "outputs": [
    {
     "name": "stdout",
     "output_type": "stream",
     "text": [
      "Shape of the Dataset: (2200, 8)\n",
      "\n"
     ]
    }
   ],
   "source": [
    "# lets check tec shape of the dataset\n",
    "print(\"Shape of the Dataset:\", data.shape)\n",
    "print()   "
   ]
  },
  {
   "cell_type": "code",
   "execution_count": 9,
   "id": "c8c49896",
   "metadata": {},
   "outputs": [
    {
     "name": "stdout",
     "output_type": "stream",
     "text": [
      "N              0\n",
      "P              0\n",
      "K              0\n",
      "temperature    0\n",
      "humidity       0\n",
      "ph             0\n",
      "rainfall       0\n",
      "label          0\n",
      "dtype: int64\n",
      "\n"
     ]
    }
   ],
   "source": [
    "# lets check if there is any missing value present in the dataset:-\n",
    "print(data.isnull().sum())\n",
    "print()  "
   ]
  },
  {
   "cell_type": "code",
   "execution_count": 10,
   "id": "f60c1ea3",
   "metadata": {},
   "outputs": [
    {
     "name": "stdout",
     "output_type": "stream",
     "text": [
      "\n"
     ]
    }
   ],
   "source": [
    "# lets check the crops present in this Dataset\n",
    "data['label'].value_counts()\n",
    "print()   "
   ]
  },
  {
   "cell_type": "code",
   "execution_count": 11,
   "id": "3d127af8",
   "metadata": {},
   "outputs": [
    {
     "name": "stdout",
     "output_type": "stream",
     "text": [
      "Average Ratio of Nitrogen in the soil: {0:.2f} 50.551818181818184\n",
      "Average Ratio of Phosphorus in the soil: {0:.2f} 53.36272727272727\n",
      "Average Ratio of Potassium in the soil: {0:.2f} 48.14909090909091\n",
      "Average Temperature in Celsius :{0:.2f} 25.616243851779533\n",
      "Average Relative Humidity in % : {0:.2f} 71.48177921778648\n",
      "Average PH Value of the Soil : {0:.2f} 6.469480065256369\n",
      "Average Rainfall in mm : {0:.2f)  103.46365541576832\n",
      "\n"
     ]
    }
   ],
   "source": [
    "# lets chech the summary for all the crops\n",
    "print(\"Average Ratio of Nitrogen in the soil: {0:.2f}\",format(data['N'].mean()))\n",
    "print(\"Average Ratio of Phosphorus in the soil: {0:.2f}\",format(data['P'].mean()))\n",
    "print(\"Average Ratio of Potassium in the soil: {0:.2f}\",format(data['K'].mean()))\n",
    "print(\"Average Temperature in Celsius :{0:.2f}\",format(data['temperature'].mean()))\n",
    "print(\"Average Relative Humidity in % : {0:.2f}\",format(data['humidity'].mean()))\n",
    "print(\"Average PH Value of the Soil : {0:.2f}\",format(data['ph'].mean()))\n",
    "print(\"Average Rainfall in mm : {0:.2f) \",format(data['rainfall'].mean()))\n",
    "print()    \n"
   ]
  },
  {
   "cell_type": "code",
   "execution_count": 12,
   "id": "7cf6775e",
   "metadata": {},
   "outputs": [
    {
     "data": {
      "application/vnd.jupyter.widget-view+json": {
       "model_id": "a019e01ce250401cb6ca18c40b43a3cd",
       "version_major": 2,
       "version_minor": 0
      },
      "text/plain": [
       "interactive(children=(Dropdown(description='crops', options=('rice', 'maize', 'jute', 'cotton', 'coconut', 'pa…"
      ]
     },
     "metadata": {},
     "output_type": "display_data"
    }
   ],
   "source": [
    "# lets check the Summary Statistics for each of the crops\n",
    "@interact\n",
    "def summary(crops = list(data['label'].value_counts().index)):\n",
    "    x = data[data[\"label\"] == crops]\n",
    "    print(\"-------------------------------------------------\")\n",
    "    print(\"Statistics for Nitrogen\")\n",
    "    print(\"Minimum Nitrigen requried :\",x['N'].min())\n",
    "    print(\"Average Nitrogen requried :\",x['N'].mean())\n",
    "    print(\"Maximum Nitrogen requried :\",x['N'].max())\n",
    "    print(\"-\"*25)\n",
    "    print(\"Statistics for Phosphorous\")\n",
    "    print(\"Minimum Phosphorous Requried :\",x[\"P\"].min())\n",
    "    print(\"Average Phosphorous Requried :\",x[\"P\"].mean())\n",
    "    print(\"Maximum Phosphorous Requried :\",x[\"P\"].max())\n",
    "    print(\"-\"*25)\n",
    "    print(\"Statistics for Potassium\")\n",
    "    print(\"Minimum Potassium Requried :\",x['K'].min())\n",
    "    print(\"Average Potassium Requried :\",x[\"K\"].mean())\n",
    "    print(\"Maxmium Potassium Requried :\",x['K'].max())\n",
    "    print(\"-\"*25)\n",
    "    print(\"Statistics for Temperature\")\n",
    "    print(\"Minium Temperature Requried : {0:.2f}\",format(x[\"temperature\"].min()))\n",
    "    print(\"Average Temperature Requried : {0:.2f}\",format(x[\"temperature\"].mean()))\n",
    "    print(\"Maxmium Temperature Requried : {0:.2f}\",format(x[\"temperature\"].mean()))\n",
    "    print(\"-\"*25)\n",
    "    print(\"Statistics for Humidity\")\n",
    "    print(\"Minium Humidity Requried : {0:.2f}\",format(x[\"humidity\"].min()))\n",
    "    print(\"Average Humidity Requried : {0:.2f}\",format(x[\"humidity\"].mean()))\n",
    "    print(\"Maxmimun Humidity Requried : {0:.2f}\",format(x[\"humidity\"].max()))\n",
    "    print(\"-\"*25)\n",
    "    print(\"Statistics for PH Level\")\n",
    "    print(\"Minimum PH Requried : {0:.2f}\",format(x[\"ph\"].min()))\n",
    "    print(\"Average PH Requried : {0:.2f}\",format(x[\"ph\"].mean()))\n",
    "    print(\"Maxmium PH Requried : {0:.2f}\",format(x[\"ph\"].max()))\n",
    "    print(\"Statistics for Rainfall\")\n",
    "    print(\"Minium Rainfall Requried : {0:.2f}\",format(x[\"rainfall\"].min()))\n",
    "    print(\"Average Rainfall Requried : {0:.2f}\",format(x[\"rainfall\"].mean()))\n",
    "    print(\"Maximum Rainfall Requried : {0:.2f}\",format(x[\"rainfall\"].max()))"
   ]
  },
  {
   "cell_type": "code",
   "execution_count": 13,
   "id": "481d9237",
   "metadata": {},
   "outputs": [
    {
     "data": {
      "application/vnd.jupyter.widget-view+json": {
       "model_id": "6bb5cadb59dc4bdf8f018c42f0a186ad",
       "version_major": 2,
       "version_minor": 0
      },
      "text/plain": [
       "interactive(children=(Dropdown(description='conditions', options=('N', 'P', 'K', 'temperature', 'ph', 'humidit…"
      ]
     },
     "metadata": {},
     "output_type": "display_data"
    }
   ],
   "source": [
    "# lets make this function more Intvitive\n",
    "\n",
    "@interact\n",
    "def compare(conditions = [\"N\",\"P\",\"K\",\"temperature\", \"ph\",\"humidity\",\"rainfall\"]):\n",
    "    print(\"Crops which required than average\", conditions, '\\n')\n",
    "    print(data[data[conditions] > data[conditions].mean()][\"label\"].unique())\n",
    "    print(\"-\"*25)\n",
    "    print(\"Crops which require less than average\", conditions, \"\\n\")\n",
    "    print(data[data[conditions] <= data[conditions].mean()][\"label\"].unique())\n"
   ]
  },
  {
   "cell_type": "markdown",
   "id": "e355dcd7",
   "metadata": {},
   "source": [
    "# DISTRIBUTIONS       (Showing all the possible values and outcomes)"
   ]
  },
  {
   "cell_type": "code",
   "execution_count": 14,
   "id": "ef3f671f",
   "metadata": {},
   "outputs": [
    {
     "data": {
      "image/png": "[encoded data removed]",
      "text/plain": [
       "<Figure size 1080x504 with 3 Axes>"
      ]
     },
     "metadata": {
      "needs_background": "light"
     },
     "output_type": "display_data"
    }
   ],
   "source": [
    "# lets check the distribution of Agricultural Conditions\n",
    "\n",
    "plt.rcParams['figure.figsize'] = (15,7)\n",
    "\n",
    "plt.subplot(2,4,1)\n",
    "sns.histplot(data['N'], color= 'lightgrey')\n",
    "plt.xlabel('Ratio of Phosphorous', fontsize = 12)\n",
    "plt.grid()\n",
    "\n",
    "plt.subplot(2,4,2)\n",
    "sns.histplot(data[\"P\"], color =\"skyblue\")\n",
    "plt.xlabel(\"Ratio of Phosphorous\", fontsize=12)\n",
    "plt.grid()\n",
    "\n",
    "plt.subplot(2,4,3)\n",
    "sns.histplot(data[\"K\"], color=\"darkblue\")\n",
    "plt.xlabel(\"Ratio of Potassium\", fontsize=12)\n",
    "plt.grid()\n"
   ]
  },
  {
   "cell_type": "code",
   "execution_count": 30,
   "id": "aff62681",
   "metadata": {},
   "outputs": [
    {
     "name": "stdout",
     "output_type": "stream",
     "text": [
      "Summer Season\n",
      "['pigeonpeas' 'mothbeans' 'blackgram' 'mango' 'grapes' 'orange' 'papaya']\n",
      "--------------------------------------------------\n",
      "Winter Season\n",
      "['maize' 'pigeonpeas' 'lentil' 'pomegranate' 'grapes' 'orange']\n",
      "--------------------------------------------------\n",
      "Rainy Season\n",
      "['rice' 'papaya' 'coconut']\n",
      "\n"
     ]
    }
   ],
   "source": [
    "# lets understand which crops can only grown in Summer Season, Winter Season and Rainy Season\n",
    "\n",
    "print(\"Summer Season\")\n",
    "print(data[(data[\"temperature\"] > 30) & (data['humidity'] > 50)][\"label\"].unique())\n",
    "print(\"-\"*50)\n",
    "print(\"Winter Season\")\n",
    "print(data[(data[\"temperature\"] < 20) & (data['humidity'] > 30)][\"label\"].unique())\n",
    "print(\"-\"*50)\n",
    "print(\"Rainy Season\")\n",
    "print(data[(data[\"rainfall\"] > 200) & (data['humidity'] > 30)][\"label\"].unique())\n",
    "print()"
   ]
  },
  {
   "cell_type": "markdown",
   "id": "7949fdc7",
   "metadata": {},
   "source": [
    "# lets try to cluster these crops"
   ]
  },
  {
   "cell_type": "code",
   "execution_count": 31,
   "id": "ad7d1a6e",
   "metadata": {},
   "outputs": [],
   "source": [
    "#lets import the warning library so that we can avoid warning\n",
    "\n",
    "from sklearn.cluster import KMeans\n",
    "import warnings\n",
    "warnings.filterwarnings(\"ignore\")"
   ]
  },
  {
   "cell_type": "code",
   "execution_count": 35,
   "id": "3d39e591",
   "metadata": {},
   "outputs": [
    {
     "name": "stdout",
     "output_type": "stream",
     "text": [
      "[[ 90.          42.          43.         ...   6.50298529  82.00274423\n",
      "  202.9355362 ]\n",
      " [ 85.          58.          41.         ...   7.03809636  80.31964408\n",
      "  226.6555374 ]\n",
      " [ 60.          55.          44.         ...   7.84020714  82.3207629\n",
      "  263.9642476 ]\n",
      " ...\n",
      " [118.          33.          30.         ...   6.36260785  67.22512329\n",
      "  173.3228386 ]\n",
      " [117.          32.          34.         ...   6.75879255  52.12739421\n",
      "  127.1752928 ]\n",
      " [104.          18.          30.         ...   6.77983261  60.39647474\n",
      "  140.9370415 ]]\n"
     ]
    }
   ],
   "source": [
    "#lets select the spending score, and Annual Income Colums from the Data\n",
    "x = data.loc[:,['N','P','K','temperature',\"ph\",\"humidity\",\"rainfall\"]].values\n",
    "print(x)\n"
   ]
  },
  {
   "cell_type": "code",
   "execution_count": 36,
   "id": "9ff1d3b3",
   "metadata": {},
   "outputs": [
    {
     "data": {
      "text/html": [
       "<div>\n",
       "<style scoped>\n",
       "    .dataframe tbody tr th:only-of-type {\n",
       "        vertical-align: middle;\n",
       "    }\n",
       "\n",
       "    .dataframe tbody tr th {\n",
       "        vertical-align: top;\n",
       "    }\n",
       "\n",
       "    .dataframe thead th {\n",
       "        text-align: right;\n",
       "    }\n",
       "</style>\n",
       "<table border=\"1\" class=\"dataframe\">\n",
       "  <thead>\n",
       "    <tr style=\"text-align: right;\">\n",
       "      <th></th>\n",
       "      <th>0</th>\n",
       "      <th>1</th>\n",
       "      <th>2</th>\n",
       "      <th>3</th>\n",
       "      <th>4</th>\n",
       "      <th>5</th>\n",
       "      <th>6</th>\n",
       "    </tr>\n",
       "  </thead>\n",
       "  <tbody>\n",
       "    <tr>\n",
       "      <th>0</th>\n",
       "      <td>90.0</td>\n",
       "      <td>42.0</td>\n",
       "      <td>43.0</td>\n",
       "      <td>20.879744</td>\n",
       "      <td>6.502985</td>\n",
       "      <td>82.002744</td>\n",
       "      <td>202.935536</td>\n",
       "    </tr>\n",
       "    <tr>\n",
       "      <th>1</th>\n",
       "      <td>85.0</td>\n",
       "      <td>58.0</td>\n",
       "      <td>41.0</td>\n",
       "      <td>21.770462</td>\n",
       "      <td>7.038096</td>\n",
       "      <td>80.319644</td>\n",
       "      <td>226.655537</td>\n",
       "    </tr>\n",
       "    <tr>\n",
       "      <th>2</th>\n",
       "      <td>60.0</td>\n",
       "      <td>55.0</td>\n",
       "      <td>44.0</td>\n",
       "      <td>23.004459</td>\n",
       "      <td>7.840207</td>\n",
       "      <td>82.320763</td>\n",
       "      <td>263.964248</td>\n",
       "    </tr>\n",
       "    <tr>\n",
       "      <th>3</th>\n",
       "      <td>74.0</td>\n",
       "      <td>35.0</td>\n",
       "      <td>40.0</td>\n",
       "      <td>26.491096</td>\n",
       "      <td>6.980401</td>\n",
       "      <td>80.158363</td>\n",
       "      <td>242.864034</td>\n",
       "    </tr>\n",
       "    <tr>\n",
       "      <th>4</th>\n",
       "      <td>78.0</td>\n",
       "      <td>42.0</td>\n",
       "      <td>42.0</td>\n",
       "      <td>20.130175</td>\n",
       "      <td>7.628473</td>\n",
       "      <td>81.604873</td>\n",
       "      <td>262.717340</td>\n",
       "    </tr>\n",
       "  </tbody>\n",
       "</table>\n",
       "</div>"
      ],
      "text/plain": [
       "      0     1     2          3         4          5           6\n",
       "0  90.0  42.0  43.0  20.879744  6.502985  82.002744  202.935536\n",
       "1  85.0  58.0  41.0  21.770462  7.038096  80.319644  226.655537\n",
       "2  60.0  55.0  44.0  23.004459  7.840207  82.320763  263.964248\n",
       "3  74.0  35.0  40.0  26.491096  6.980401  80.158363  242.864034\n",
       "4  78.0  42.0  42.0  20.130175  7.628473  81.604873  262.717340"
      ]
     },
     "execution_count": 36,
     "metadata": {},
     "output_type": "execute_result"
    }
   ],
   "source": [
    "## lets convert this data into a dataframe\n",
    "print=x_data = pd.DataFrame(x)\n",
    "x_data.head()"
   ]
  },
  {
   "cell_type": "code",
   "execution_count": null,
   "id": "95f194e2",
   "metadata": {},
   "outputs": [],
   "source": []
  }
 ],
 "metadata": {
  "kernelspec": {
   "display_name": "Python 3 (ipykernel)",
   "language": "python",
   "name": "python3"
  },
  "language_info": {
   "codemirror_mode": {
    "name": "ipython",
    "version": 3
   },
   "file_extension": ".py",
   "mimetype": "text/x-python",
   "name": "python",
   "nbconvert_exporter": "python",
   "pygments_lexer": "ipython3",
   "version": "3.9.12"
  },
  "widgets": {
   "application/vnd.jupyter.widget-state+json": {
    "state": {
     "0a5f673df6a745e2adfaec8a313960fd": {
      "model_module": "@jupyter-widgets/output",
      "model_module_version": "1.0.0",
      "model_name": "OutputModel",
      "state": {
       "layout": "IPY_MODEL_0dab6d1cdca44e02bf3f9a54aea4f23e",
       "outputs": [
        {
         "name": "stdout",
         "output_type": "stream",
         "text": "-------------------------------------------------\nStatistics for Nitrogen\nMinimum Nitrigen requried : 60\nAverage Nitrogen requried : 79.89\nMaximum Nitrogen requried : 99\n-------------------------\nStatistics for Phosphorous\nMinimum Phosphorous Requried : 35\nAverage Phosphorous Requried : 47.58\nMaximum Phosphorous Requried : 60\n-------------------------\nStatistics for Potassium\nMinimum Potassium Requried : 35\nAverage Potassium Requried : 39.87\nMaxmium Potassium Requried : 45\n-------------------------\nStatistics for Temperature\nMinium Temperature Requried : {0:.2f} 20.0454142\nAverage Temperature Requried : {0:.2f} 23.689332210500005\nMaxmium Temperature Requried : {0:.2f} 23.689332210500005\n-------------------------\nStatistics for Humidity\nMinium Humidity Requried : {0:.2f} 80.12267476\nAverage Humidity Requried : {0:.2f} 82.2728215389\nMaxmimun Humidity Requried : {0:.2f} 84.96907151\n-------------------------\nStatistics for PH Level\nMinimum PH Requried : {0:.2f} 5.005306977\nAverage PH Requried : {0:.2f} 6.425470922139999\nMaxmium PH Requried : {0:.2f} 7.868474653\nStatistics for Rainfall\nMinium Rainfall Requried : {0:.2f} 182.5616319\nAverage Rainfall Requried : {0:.2f} 236.1811135939999\nMaximum Rainfall Requried : {0:.2f} 298.5601175\n"
        }
       ]
      }
     },
     "0dab6d1cdca44e02bf3f9a54aea4f23e": {
      "model_module": "@jupyter-widgets/base",
      "model_module_version": "1.2.0",
      "model_name": "LayoutModel",
      "state": {}
     },
     "55203ee7f6ff44f1b8311cfdc64cffe1": {
      "model_module": "@jupyter-widgets/base",
      "model_module_version": "1.2.0",
      "model_name": "LayoutModel",
      "state": {}
     },
     "a019e01ce250401cb6ca18c40b43a3cd": {
      "model_module": "@jupyter-widgets/controls",
      "model_module_version": "1.5.0",
      "model_name": "VBoxModel",
      "state": {
       "_dom_classes": [
        "widget-interact"
       ],
       "children": [
        "IPY_MODEL_bfa75655881143159407e7396a9d2b24",
        "IPY_MODEL_0a5f673df6a745e2adfaec8a313960fd"
       ],
       "layout": "IPY_MODEL_55203ee7f6ff44f1b8311cfdc64cffe1"
      }
     },
     "ad45af9477424f38b96c01e4136a8338": {
      "model_module": "@jupyter-widgets/controls",
      "model_module_version": "1.5.0",
      "model_name": "DescriptionStyleModel",
      "state": {
       "description_width": ""
      }
     },
     "b33fc398412246d9b3c689b424440a2e": {
      "model_module": "@jupyter-widgets/base",
      "model_module_version": "1.2.0",
      "model_name": "LayoutModel",
      "state": {}
     },
     "bfa75655881143159407e7396a9d2b24": {
      "model_module": "@jupyter-widgets/controls",
      "model_module_version": "1.5.0",
      "model_name": "DropdownModel",
      "state": {
       "_options_labels": [
        "rice",
        "maize",
        "jute",
        "cotton",
        "coconut",
        "papaya",
        "orange",
        "apple",
        "muskmelon",
        "watermelon",
        "grapes",
        "mango",
        "banana",
        "pomegranate",
        "lentil",
        "blackgram",
        "mungbean",
        "mothbeans",
        "pigeonpeas",
        "kidneybeans",
        "chickpea",
        "coffee"
       ],
       "description": "crops",
       "index": 0,
       "layout": "IPY_MODEL_b33fc398412246d9b3c689b424440a2e",
       "style": "IPY_MODEL_ad45af9477424f38b96c01e4136a8338"
      }
     }
    },
    "version_major": 2,
    "version_minor": 0
   }
  }
 },
 "nbformat": 4,
 "nbformat_minor": 5
}
